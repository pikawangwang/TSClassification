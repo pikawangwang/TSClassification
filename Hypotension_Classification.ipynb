{
 "cells": [
  {
   "cell_type": "code",
   "execution_count": 357,
   "id": "b40de5f5-fab0-44ea-8524-bfc5030326f6",
   "metadata": {},
   "outputs": [],
   "source": [
    "import numpy as np\n",
    "from sklearn.preprocessing import MinMaxScaler\n",
    "import smote_variants as sv\n",
    "from imblearn.over_sampling import SMOTE"
   ]
  },
  {
   "cell_type": "code",
   "execution_count": 359,
   "id": "fb622559-849c-4e91-ad69-5ab8b3a902dd",
   "metadata": {},
   "outputs": [],
   "source": [
    "X_train = np.load('X_train_ffill.npy', allow_pickle=True)\n",
    "Y_train = np.load('Y_train_ffill.npy', allow_pickle=True)\n",
    "X_val = np.load('X_val_ffill.npy', allow_pickle=True)\n",
    "Y_val = np.load('Y_val_ffill.npy', allow_pickle=True)\n",
    "X_test = np.load('X_test_ffill.npy', allow_pickle=True)\n",
    "Y_test = np.load('Y_test_ffill.npy', allow_pickle=True)\n",
    "\n",
    "X_train = np.concatenate((X_train, X_val), axis=0)\n",
    "Y_train = np.concatenate((Y_train, Y_val), axis=0)"
   ]
  },
  {
   "cell_type": "code",
   "execution_count": 361,
   "id": "175ba564-6c81-427d-a116-0d3c4aa1de5c",
   "metadata": {},
   "outputs": [
    {
     "data": {
      "text/plain": [
       "(337, 11, 30)"
      ]
     },
     "execution_count": 361,
     "metadata": {},
     "output_type": "execute_result"
    }
   ],
   "source": [
    "X_train.shape"
   ]
  },
  {
   "cell_type": "code",
   "execution_count": 363,
   "id": "b928006f-3251-4836-b7ef-e00a941e15f2",
   "metadata": {},
   "outputs": [
    {
     "data": {
      "text/plain": [
       "(337,)"
      ]
     },
     "execution_count": 363,
     "metadata": {},
     "output_type": "execute_result"
    }
   ],
   "source": [
    "Y_train.shape"
   ]
  },
  {
   "cell_type": "code",
   "execution_count": 365,
   "id": "9dde9ef0-2ea8-4ce7-899f-f2dbcd79f11f",
   "metadata": {},
   "outputs": [
    {
     "name": "stdout",
     "output_type": "stream",
     "text": [
      "Training set shape (X): (337, 11, 30)\n",
      "Training set shape (Y): (337,)\n",
      "Testing set shape (X): (85, 11, 30)\n",
      "Testing set shape (Y): (85,)\n"
     ]
    }
   ],
   "source": [
    "\n",
    "# Verify the shapes\n",
    "print(\"Training set shape (X):\", X_train.shape)\n",
    "print(\"Training set shape (Y):\", Y_train.shape)\n",
    "print(\"Testing set shape (X):\", X_test.shape)\n",
    "print(\"Testing set shape (Y):\", Y_test.shape)"
   ]
  },
  {
   "cell_type": "code",
   "execution_count": 319,
   "id": "950fdcd2-f32c-435e-8b90-324457df4421",
   "metadata": {},
   "outputs": [],
   "source": [
    "X_train = np.transpose(X_train, (0, 2, 1))\n",
    "X_val = np.transpose(X_val, (0, 2, 1))\n",
    "X_test = np.transpose(X_test, (0, 2, 1))"
   ]
  },
  {
   "cell_type": "code",
   "execution_count": 367,
   "id": "e68fa2dc-66b0-482f-94cb-eb46a96202a9",
   "metadata": {},
   "outputs": [],
   "source": [
    "oversampler= sv.MulticlassOversampling(oversampler='ANS',\n",
    "                                      oversampler_params={'random_state': 5})\n",
    "\n",
    "X_train_reshaped = X_train.reshape(X_train.shape[0], -1)\n",
    "X_train_resampled, Y_train_resampled = smote.fit_resample(X_train_reshaped, Y_train)\n",
    "X_train_resampled = X_train_resampled.reshape(-1, 11, 30)"
   ]
  },
  {
   "cell_type": "code",
   "execution_count": 369,
   "id": "03f90f80-75f6-4461-a997-5cada659f541",
   "metadata": {},
   "outputs": [
    {
     "data": {
      "text/plain": [
       "(490, 11, 30)"
      ]
     },
     "execution_count": 369,
     "metadata": {},
     "output_type": "execute_result"
    }
   ],
   "source": [
    "X_train_resampled.shape"
   ]
  },
  {
   "cell_type": "code",
   "execution_count": 371,
   "id": "b3af08f7-43c3-44e1-9f89-57c2d6b15bbc",
   "metadata": {},
   "outputs": [
    {
     "data": {
      "text/plain": [
       "(490,)"
      ]
     },
     "execution_count": 371,
     "metadata": {},
     "output_type": "execute_result"
    }
   ],
   "source": [
    "Y_train_resampled.shape"
   ]
  },
  {
   "cell_type": "code",
   "execution_count": 373,
   "id": "ebdff6a3-e560-4fc2-89fa-a8efbb61122d",
   "metadata": {},
   "outputs": [],
   "source": [
    "shuffle_indices = np.random.permutation(np_X_set.shape[0])\n",
    "\n",
    "# 使用打乱的索引来打乱 array_3d 和 y_set\n",
    "X_train_resampled = X_train_resampled[shuffle_indices]\n",
    "Y_train_resampled = Y_train_resampled[shuffle_indices]"
   ]
  },
  {
   "cell_type": "code",
   "execution_count": 375,
   "id": "7df613f2-0468-419f-b2f2-01347d542990",
   "metadata": {},
   "outputs": [
    {
     "name": "stdout",
     "output_type": "stream",
     "text": [
      "43/43 [==============================] - 1s 3ms/step\n"
     ]
    },
    {
     "data": {
      "text/plain": [
       "0.8823529411764706"
      ]
     },
     "execution_count": 375,
     "metadata": {},
     "output_type": "execute_result"
    }
   ],
   "source": [
    "from sktime.classification.deep_learning import LSTMFCNClassifier\n",
    "from sklearn.metrics import accuracy_score\n",
    "#eucl_dist = FlatDist(ScipyDist())\n",
    "lstmfcn = LSTMFCNClassifier(n_epochs=20,\n",
    "                            batch_size=2,\n",
    "                            dropout=0.8, \n",
    "                            kernel_sizes=(3, 3, 3), \n",
    "                            filter_sizes=(64, 64, 64), \n",
    "                            lstm_size=8)  \n",
    "lstmfcn.fit(X_train_resampled, Y_train_resampled)\n",
    "Y_pred = lstmfcn.predict(X_test)\n",
    "accuracy_score(Y_test, Y_pred)"
   ]
  },
  {
   "cell_type": "code",
   "execution_count": 376,
   "id": "cd3ed2dd-4c8f-4e6e-973e-452283aaa909",
   "metadata": {},
   "outputs": [
    {
     "data": {
      "text/plain": [
       "array([0, 0, 0, 1, 0, 0, 0, 0, 0, 0, 0, 0, 0, 1, 1, 0, 0, 0, 0, 0, 0, 0,\n",
       "       0, 0, 0, 0, 0, 0, 1, 1, 1, 0, 0, 0, 0, 0, 0, 0, 0, 1, 0, 0, 0, 1,\n",
       "       0, 0, 0, 0, 1, 1, 1, 0, 0, 1, 1, 0, 1, 1, 0, 0, 0, 0, 0, 0, 0, 0,\n",
       "       0, 0, 0, 0, 0, 1, 0, 0, 0, 1, 1, 0, 0, 1, 1, 0, 1, 0, 1])"
      ]
     },
     "execution_count": 376,
     "metadata": {},
     "output_type": "execute_result"
    }
   ],
   "source": [
    "Y_pred"
   ]
  },
  {
   "cell_type": "code",
   "execution_count": 377,
   "id": "65600b56-cca4-4790-aa41-46f4b93c629b",
   "metadata": {},
   "outputs": [
    {
     "data": {
      "text/plain": [
       "0.8588235294117647"
      ]
     },
     "execution_count": 377,
     "metadata": {},
     "output_type": "execute_result"
    }
   ],
   "source": [
    "from sktime.classification.distance_based import KNeighborsTimeSeriesClassifier\n",
    "KNN = KNeighborsTimeSeriesClassifier(distance=\"euclidean\")\n",
    "KNN.fit(X_train_resampled, Y_train_resampled)\n",
    "Y_pred = KNN.predict(X_test)\n",
    "accuracy_score(Y_test, Y_pred)"
   ]
  },
  {
   "cell_type": "code",
   "execution_count": 378,
   "id": "4d5f3c4a-798b-46f4-8c4d-6b691295ae18",
   "metadata": {},
   "outputs": [
    {
     "data": {
      "text/plain": [
       "array([1, 1, 0, 0, 0, 0, 0, 0, 0, 0, 1, 0, 0, 1, 1, 0, 0, 0, 0, 0, 0, 1,\n",
       "       0, 0, 1, 0, 1, 0, 1, 0, 1, 0, 0, 0, 0, 1, 0, 0, 0, 1, 1, 0, 0, 1,\n",
       "       0, 0, 0, 0, 1, 0, 1, 0, 0, 1, 1, 0, 1, 1, 1, 0, 0, 0, 0, 0, 1, 0,\n",
       "       0, 1, 0, 0, 0, 1, 1, 0, 0, 0, 0, 0, 0, 0, 0, 1, 1, 0, 1])"
      ]
     },
     "execution_count": 378,
     "metadata": {},
     "output_type": "execute_result"
    }
   ],
   "source": [
    "Y_pred"
   ]
  },
  {
   "cell_type": "code",
   "execution_count": 379,
   "id": "a242b68e-abdf-4c3d-b968-51dfb114fb4f",
   "metadata": {},
   "outputs": [
    {
     "name": "stdout",
     "output_type": "stream",
     "text": [
      "85/85 [==============================] - 0s 2ms/step\n"
     ]
    },
    {
     "data": {
      "text/plain": [
       "0.7647058823529411"
      ]
     },
     "execution_count": 379,
     "metadata": {},
     "output_type": "execute_result"
    }
   ],
   "source": [
    "from sktime.classification.deep_learning.mlp import MLPClassifier\n",
    "mlp = MLPClassifier(n_epochs=5,batch_size=1)  \n",
    "mlp.fit(X_train_resampled, Y_train_resampled)  \n",
    "Y_pred = mlp.predict(X_test)\n",
    "accuracy_score(Y_test, Y_pred)"
   ]
  },
  {
   "cell_type": "code",
   "execution_count": 380,
   "id": "09e44589-0386-41ab-b53d-4a143227eebc",
   "metadata": {},
   "outputs": [
    {
     "data": {
      "text/plain": [
       "array([0, 0, 0, 0, 0, 0, 0, 0, 0, 0, 0, 0, 0, 0, 0, 0, 0, 0, 0, 0, 0, 0,\n",
       "       0, 0, 0, 0, 0, 0, 0, 0, 0, 0, 0, 0, 0, 0, 0, 0, 0, 0, 0, 0, 0, 0,\n",
       "       0, 0, 0, 0, 0, 0, 0, 0, 0, 0, 0, 0, 0, 0, 0, 0, 0, 0, 0, 0, 0, 0,\n",
       "       0, 0, 0, 0, 0, 0, 0, 0, 0, 0, 0, 0, 0, 0, 0, 0, 0, 0, 0])"
      ]
     },
     "execution_count": 380,
     "metadata": {},
     "output_type": "execute_result"
    }
   ],
   "source": [
    "Y_pred"
   ]
  },
  {
   "cell_type": "code",
   "execution_count": 381,
   "id": "3c849d91-ab42-458b-b4f3-7add96400b31",
   "metadata": {},
   "outputs": [
    {
     "name": "stdout",
     "output_type": "stream",
     "text": [
      "85/85 [==============================] - 0s 2ms/step\n"
     ]
    },
    {
     "data": {
      "text/plain": [
       "0.8705882352941177"
      ]
     },
     "execution_count": 381,
     "metadata": {},
     "output_type": "execute_result"
    }
   ],
   "source": [
    "from sktime.classification.deep_learning.cnn import CNNClassifier\n",
    "cnn = CNNClassifier(n_epochs=5,batch_size=1)  \n",
    "cnn.fit(X_train_resampled, Y_train_resampled)   \n",
    "Y_pred = cnn.predict(X_test)\n",
    "accuracy_score(Y_test, Y_pred)"
   ]
  },
  {
   "cell_type": "code",
   "execution_count": 382,
   "id": "29e9cc27-c6db-493c-aa89-76a917776bb1",
   "metadata": {},
   "outputs": [
    {
     "data": {
      "text/plain": [
       "array([0, 1, 0, 1, 0, 0, 0, 0, 0, 0, 0, 0, 0, 0, 1, 0, 0, 0, 0, 0, 0, 0,\n",
       "       0, 0, 0, 0, 0, 0, 0, 0, 0, 0, 0, 0, 0, 0, 0, 0, 0, 1, 0, 0, 0, 1,\n",
       "       0, 0, 0, 0, 1, 1, 1, 0, 0, 1, 0, 0, 0, 1, 0, 0, 0, 0, 0, 0, 0, 0,\n",
       "       0, 0, 0, 0, 0, 0, 0, 0, 0, 1, 0, 0, 0, 0, 0, 0, 1, 0, 1])"
      ]
     },
     "execution_count": 382,
     "metadata": {},
     "output_type": "execute_result"
    }
   ],
   "source": [
    "Y_pred"
   ]
  },
  {
   "cell_type": "code",
   "execution_count": 383,
   "id": "09d63a58-f995-4884-ac1a-98d9bf1b5b20",
   "metadata": {},
   "outputs": [
    {
     "name": "stdout",
     "output_type": "stream",
     "text": [
      "85/85 [==============================] - 0s 2ms/step\n"
     ]
    },
    {
     "data": {
      "text/plain": [
       "0.7058823529411765"
      ]
     },
     "execution_count": 383,
     "metadata": {},
     "output_type": "execute_result"
    }
   ],
   "source": [
    "from sktime.classification.deep_learning.fcn import FCNClassifier\n",
    "FCN = FCNClassifier(n_epochs=10,batch_size=1)  \n",
    "FCN.fit(X_train_resampled, Y_train_resampled)  \n",
    "Y_pred = FCN.predict(X_test)\n",
    "accuracy_score(Y_test, Y_pred)"
   ]
  },
  {
   "cell_type": "code",
   "execution_count": 384,
   "id": "8cd71dc8-9086-43aa-bb24-b8bf09a9ee6c",
   "metadata": {},
   "outputs": [
    {
     "data": {
      "text/plain": [
       "array([0, 0, 1, 0, 0, 1, 0, 0, 0, 0, 0, 0, 0, 0, 0, 0, 0, 0, 0, 0, 0, 0,\n",
       "       0, 0, 0, 0, 0, 0, 0, 0, 0, 0, 0, 0, 0, 0, 0, 0, 0, 0, 0, 1, 0, 0,\n",
       "       0, 0, 0, 1, 0, 0, 0, 0, 0, 0, 0, 0, 0, 0, 0, 0, 0, 0, 0, 0, 0, 0,\n",
       "       0, 0, 0, 0, 0, 0, 0, 0, 0, 0, 0, 0, 1, 0, 0, 0, 0, 0, 0])"
      ]
     },
     "execution_count": 384,
     "metadata": {},
     "output_type": "execute_result"
    }
   ],
   "source": [
    "Y_pred"
   ]
  },
  {
   "cell_type": "code",
   "execution_count": 385,
   "id": "858f41c4-9304-4fb2-8c82-491afd985d0e",
   "metadata": {},
   "outputs": [
    {
     "name": "stdout",
     "output_type": "stream",
     "text": [
      "85/85 [==============================] - 0s 2ms/step\n"
     ]
    },
    {
     "data": {
      "text/plain": [
       "0.7647058823529411"
      ]
     },
     "execution_count": 385,
     "metadata": {},
     "output_type": "execute_result"
    }
   ],
   "source": [
    "from sktime.classification.deep_learning.cntc import CNTCClassifier\n",
    "CNTCC = FCNClassifier(n_epochs=10,batch_size=1)  \n",
    "CNTCC.fit(X_train_resampled, Y_train_resampled)  \n",
    "Y_pred = CNTCC.predict(X_test)\n",
    "accuracy_score(Y_test, Y_pred)"
   ]
  },
  {
   "cell_type": "code",
   "execution_count": 386,
   "id": "2cc22a34-500c-470b-8429-1eabc93262e4",
   "metadata": {},
   "outputs": [
    {
     "data": {
      "text/plain": [
       "array([0, 0, 0, 0, 0, 0, 0, 1, 0, 0, 0, 0, 0, 0, 0, 0, 0, 0, 0, 0, 0, 1,\n",
       "       0, 0, 0, 0, 0, 0, 0, 0, 0, 0, 0, 0, 0, 0, 0, 0, 0, 0, 0, 0, 0, 0,\n",
       "       0, 0, 0, 0, 0, 0, 0, 0, 0, 0, 0, 0, 0, 0, 0, 0, 0, 0, 0, 0, 0, 0,\n",
       "       0, 1, 0, 0, 0, 0, 0, 0, 0, 0, 0, 0, 0, 0, 0, 1, 0, 0, 0])"
      ]
     },
     "execution_count": 386,
     "metadata": {},
     "output_type": "execute_result"
    }
   ],
   "source": [
    "Y_pred"
   ]
  },
  {
   "cell_type": "code",
   "execution_count": 387,
   "id": "1f221d3e-117a-4de8-b783-ee059b2c8272",
   "metadata": {},
   "outputs": [
    {
     "name": "stdout",
     "output_type": "stream",
     "text": [
      "43/43 [==============================] - 1s 4ms/step\n"
     ]
    },
    {
     "data": {
      "text/plain": [
       "0.788235294117647"
      ]
     },
     "execution_count": 387,
     "metadata": {},
     "output_type": "execute_result"
    }
   ],
   "source": [
    "from sktime.classification.deep_learning import InceptionTimeClassifier\n",
    "Inception = InceptionTimeClassifier(n_epochs=10,batch_size=2)  \n",
    "Inception.fit(X_train_resampled, Y_train_resampled)  \n",
    "Y_pred = Inception.predict(X_test)\n",
    "accuracy_score(Y_test, Y_pred)"
   ]
  },
  {
   "cell_type": "code",
   "execution_count": 388,
   "id": "c595f01b-2a35-4cde-8962-a901da02a20a",
   "metadata": {},
   "outputs": [
    {
     "data": {
      "text/plain": [
       "array([0, 1, 0, 1, 0, 0, 0, 1, 0, 0, 1, 0, 0, 1, 1, 0, 0, 0, 0, 0, 0, 1,\n",
       "       0, 0, 1, 0, 0, 0, 1, 1, 1, 0, 0, 0, 0, 1, 0, 1, 0, 1, 1, 0, 0, 1,\n",
       "       1, 0, 0, 0, 1, 1, 1, 1, 1, 1, 1, 0, 1, 1, 1, 1, 0, 0, 0, 0, 0, 0,\n",
       "       1, 1, 0, 0, 1, 1, 0, 0, 0, 1, 1, 0, 0, 1, 1, 0, 1, 0, 1])"
      ]
     },
     "execution_count": 388,
     "metadata": {},
     "output_type": "execute_result"
    }
   ],
   "source": [
    "Y_pred"
   ]
  },
  {
   "cell_type": "code",
   "execution_count": null,
   "id": "39b08bbb-d919-4084-b3c2-321a15f888d3",
   "metadata": {},
   "outputs": [],
   "source": []
  }
 ],
 "metadata": {
  "kernelspec": {
   "display_name": "TSclassification",
   "language": "python",
   "name": "tsclassification"
  },
  "language_info": {
   "codemirror_mode": {
    "name": "ipython",
    "version": 3
   },
   "file_extension": ".py",
   "mimetype": "text/x-python",
   "name": "python",
   "nbconvert_exporter": "python",
   "pygments_lexer": "ipython3",
   "version": "3.11.5"
  }
 },
 "nbformat": 4,
 "nbformat_minor": 5
}
